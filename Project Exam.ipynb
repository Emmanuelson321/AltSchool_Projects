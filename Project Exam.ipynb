{
 "cells": [
  {
   "cell_type": "code",
   "execution_count": 1,
   "id": "4779fcbc",
   "metadata": {},
   "outputs": [],
   "source": [
    "import pandas as pd\n",
    "import data_mod as dm"
   ]
  },
  {
   "cell_type": "code",
   "execution_count": 2,
   "id": "c3b7456c",
   "metadata": {},
   "outputs": [],
   "source": [
    "def run_accounting():\n",
    "        while True:\n",
    "            print('\\nRetail business profile')\n",
    "            print('1. total_sales')\n",
    "            print('2. workers salary')\n",
    "            print('3. profit')\n",
    "            print('4. total tips')\n",
    "            print('5. Exit')\n",
    "\n",
    "\n",
    "            choice = input('Enter your choice (1-5): ')\n",
    "            if choice == '1':\n",
    "                total_sales()\n",
    "            elif choice == '2':\n",
    "                workers_salary()\n",
    "            elif choice == '3':\n",
    "                profit()\n",
    "            elif choice == '4':\n",
    "                total_tips()\n",
    "            elif choice == '5':\n",
    "                break\n",
    "            else:\n",
    "                print('Invalid choice. please enter a number between 1 and 5.')"
   ]
  },
  {
   "cell_type": "code",
   "execution_count": 34,
   "id": "0f3a4fdf",
   "metadata": {},
   "outputs": [
    {
     "name": "stdout",
     "output_type": "stream",
     "text": [
      "\n",
      "Retail business profile\n",
      "1. total_sales\n",
      "2. workers salary\n",
      "3. profit\n",
      "4. total tips\n",
      "5. Exit\n",
      "Enter your choice (1-5): 2\n",
      "Enter the size of the hourly rate list(4): 3\n",
      "Enter hourly rate: 13.3 34.2 43.3\n",
      "Enter the size of the hours worked(4): 3\n",
      "Enter hours worked: 12 9 8 \n",
      "\n",
      "\n",
      "workers salary: [159.60000000000002, 307.8, 346.4]\n",
      "\n",
      "Retail business profile\n",
      "1. total_sales\n",
      "2. workers salary\n",
      "3. profit\n",
      "4. total tips\n",
      "5. Exit\n",
      "Enter your choice (1-5): 5\n"
     ]
    }
   ],
   "source": [
    "run_accounting()"
   ]
  },
  {
   "cell_type": "code",
   "execution_count": 33,
   "id": "9631fd4d",
   "metadata": {},
   "outputs": [],
   "source": [
    "# morning sales function\n",
    "def morning_shift_sales():\n",
    "    # n is the size of the list\n",
    "    n = int(input(\"Enter the size of morning_shift_sales(4): \"))\n",
    " \n",
    "    # Using list comprehension with input to prompt the user for the morning shift sales\n",
    "    # split funct split the numbers separately using white space as the delimeter\n",
    "    morning_shift_sales = list(int(x) for x in input(\"Enter morning_shift_sales: \" ).strip().split())[:n]\n",
    "    return morning_shift_sales\n",
    "\n",
    "# Evening sales function\n",
    "def evening_shift_sales():\n",
    "    # n is the size of the list\n",
    "    n = int(input(\"Enter the size of evening_shift_sales(4): \"))\n",
    " \n",
    "    # Using list comprehension with input to prompt the user for the evening shift sales\n",
    "    # split funct split the numbers separately using white space as the delimeter\n",
    "    evening_shift_sales = list(int(x) for x in input(\"Enter evening_shift_sales: \" ).strip().split())[:n]\n",
    "    return evening_shift_sales\n",
    "\n",
    "# total sales function\n",
    "def total_sales():\n",
    "    \n",
    "        # Validate input lengths\n",
    "    if len(morning_shift_sales()) != len(evening_shift_sales()):\n",
    "        print(\"Error: Input lengths do not match.\")\n",
    "        return\n",
    "    \n",
    "    total_sales_data = [x + y for x,y in zip (morning_shift_sales(),evening_shift_sales())]\n",
    "    print('\\n')\n",
    "    print(f'total_sales: {total_sales_data}')\n",
    "    return total_sales_data\n",
    "\n",
    "\n",
    "# profit function\n",
    "def profit():\n",
    "     # n is the size of the list\n",
    "    n = int(input(\"Enter the size of the cost of item(4): \"))\n",
    " \n",
    "     # Using list comprehension with input to prompt the user for the cost of item\n",
    "     # split funct split the numbers separately using white space as the delimeter\n",
    "    cost_of_item = list(int(y) for y in input(\"Enter cost of item: \" ).strip().split())[:n]\n",
    "    \n",
    "    total_sales_data = total_sales()\n",
    "    \n",
    "      # Validate input lengths\n",
    "    if len(cost_of_item) != len(total_sales_data):\n",
    "        print(\"Error: Input lengths do not match.\")\n",
    "        return\n",
    "    \n",
    "    profit_loss_list = [x - y for x,y in zip(total_sales_data,cost_of_item)]\n",
    "    print('\\n')\n",
    "    print(f'profit/loss: {profit_loss_list}')\n",
    "\n",
    "\n",
    "# worker's salary function\n",
    "def workers_salary():\n",
    "    try:\n",
    "         # prompt the user for hourly_rate & hours_eorned\n",
    "     \n",
    "         # n is the size of the list\n",
    "        n = int(input(\"Enter the size of the hourly rate list(4): \"))\n",
    " \n",
    "         # Using list comprehension with input to prompt the user for the hourly_rate\n",
    "         # split funct split the numbers separately using white space as the delimeter\n",
    "        hourly_rate = list(float(x) for x in input(\"Enter hourly rate: \" ).strip().split())[:n]\n",
    "                                           \n",
    "         # a is the size of the list \n",
    "        a = int(input(\"Enter the size of the hours worked(4): \"))\n",
    "                                               \n",
    "         # Using list comprehension with input to prompt the user for hours_worked\n",
    "         # split funct split the numbers separately using white space as the delimeter \n",
    "        hours_worked = list(int(y) for y in input(\"Enter hours worked: \").strip().split())[:n]\n",
    "        \n",
    "             # Validate input lengths\n",
    "        if len(hourly_rate) != len(hours_worked):\n",
    "            print(\"Error: Input lengths do not match.\")\n",
    "            return\n",
    "    \n",
    "         # using list comprehension to calculate salary of each worker\n",
    "         # the round function round the salary to 2 decimal place\n",
    "        salary = [round(x,2) * round(y,2) for x,y in zip(hourly_rate,hours_worked)]\n",
    "        print('\\n')\n",
    "        print(f'workers salary: {salary}')\n",
    "    \n",
    "    except ZeroDivisionError:\n",
    "                print(\"Error: Cannot divide by zero\")\n",
    "\n",
    "\n",
    "# tips function for workers\n",
    "def morning_tips():\n",
    "     # using list comprehension to calculate morning tips of each worker                                           \n",
    "    morning_tips = [0.02 * y for y in (morning_shift_sales())]\n",
    "    return morning_tips\n",
    "\n",
    "def evening_tips():   \n",
    "     # using list comprehension to calculate evening tips of each worker                                           \n",
    "    evening_tips = [0.02 * y for y in (evening_shift_sales())]\n",
    "    return evening_tips\n",
    "\n",
    "\n",
    "def total_tips():\n",
    "    total_tips_data = [round(x,2) + round(y,2) for x,y in zip(morning_tips(),evening_tips())]\n",
    "    print('\\n')\n",
    "    print(f'total tips: {total_tips_data}')"
   ]
  },
  {
   "cell_type": "code",
   "execution_count": 20,
   "id": "c6ecf2f9",
   "metadata": {},
   "outputs": [
    {
     "name": "stdout",
     "output_type": "stream",
     "text": [
      "Enter the size of the cost of item(6): 3\n",
      "Enter cost of item: 430 435\n",
      "Enter the size of morning_shift_sales(6): 3\n",
      "Enter morning_shift_sales: 230 320\n",
      "Enter the size of evening_shift_sales(6): 3\n",
      "Enter evening_shift_sales: 123 430\n",
      "total_sales: [353, 750]\n",
      "profit: [-77, 315]\n"
     ]
    }
   ],
   "source": [
    "profit()"
   ]
  },
  {
   "cell_type": "markdown",
   "id": "f67004cd",
   "metadata": {},
   "source": [
    "Challenges Encountered \n",
    "\n",
    "1. I had to surf the internet to first determine how to pass in input for a list of numbers which was my major challenge.\n",
    "2. I had to define a function for the morning and evening shift sales so as to reuse it for the tips, I'm not sure if there is a way of returning a variable and reusing it.\n",
    "3. I was at having a value errors for my total tips, and profits but later solved it"
   ]
  }
 ],
 "metadata": {
  "kernelspec": {
   "display_name": "Python 3 (ipykernel)",
   "language": "python",
   "name": "python3"
  },
  "language_info": {
   "codemirror_mode": {
    "name": "ipython",
    "version": 3
   },
   "file_extension": ".py",
   "mimetype": "text/x-python",
   "name": "python",
   "nbconvert_exporter": "python",
   "pygments_lexer": "ipython3",
   "version": "3.10.9"
  },
  "varInspector": {
   "cols": {
    "lenName": 16,
    "lenType": 16,
    "lenVar": 40
   },
   "kernels_config": {
    "python": {
     "delete_cmd_postfix": "",
     "delete_cmd_prefix": "del ",
     "library": "var_list.py",
     "varRefreshCmd": "print(var_dic_list())"
    },
    "r": {
     "delete_cmd_postfix": ") ",
     "delete_cmd_prefix": "rm(",
     "library": "var_list.r",
     "varRefreshCmd": "cat(var_dic_list()) "
    }
   },
   "types_to_exclude": [
    "module",
    "function",
    "builtin_function_or_method",
    "instance",
    "_Feature"
   ],
   "window_display": false
  }
 },
 "nbformat": 4,
 "nbformat_minor": 5
}
